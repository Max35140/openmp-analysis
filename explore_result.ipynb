{
 "cells": [
  {
   "cell_type": "code",
   "id": "initial_id",
   "metadata": {
    "collapsed": true
   },
   "source": [
    "import pandas as pd\n",
    "import numpy as np\n",
    "import os\n",
    "import re\n",
    "from tqdm.auto import tqdm \n",
    "tqdm.pandas()\n",
    "\n",
    "import matplotlib.pyplot as plt\n",
    "import seaborn as sns\n",
    "from git import repo\n",
    "\n",
    "sns.set_style(\"whitegrid\")\n",
    "\n",
    "input_file = \"/home/tim/cluster/openmp-usage-analysis/result.csv\"\n",
    "input_file_pragmas = \"/home/tim/cluster/openmp-usage-analysis/pragma_result.csv\"\n",
    "input_file_metadata = \"/home/tim/scratch/openmp-usage-analysis-binaries/result.csv\"\n",
    "output_file_metadata = \"/home/tim/scratch/openmp-usage-analysis-binaries/result_with_fixed_dates.csv\"\n",
    "input_file_date = \"/home/tim/scratch/openmp-usage-analysis-binaries/fixed_commit_dates.csv\"\n",
    "\n",
    "plot_path = \"/home/tim/paper/openmp-analysis-paper/media\"\n",
    "df = pd.read_csv(input_file, index_col=0)\n",
    "df_pragmas = pd.read_csv(input_file_pragmas, index_col=0)\n",
    "df_repo_metadata = pd.read_csv(input_file_metadata, index_col=0)\n",
    "df_date = pd.read_csv(input_file_date, index_col=0)"
   ],
   "outputs": [],
   "execution_count": null
  },
  {
   "metadata": {},
   "cell_type": "code",
   "source": [
    "#pre-processing\n",
    "df_repo_metadata[\"Code\"] = df_repo_metadata[\"Code\"].str.replace(\"/\", \"--\")"
   ],
   "id": "19b4ef033c6411c3",
   "outputs": [],
   "execution_count": null
  },
  {
   "metadata": {},
   "cell_type": "code",
   "source": "OVERHEAD_THRESHOLD = 100",
   "id": "ee40524707552c17",
   "outputs": [],
   "execution_count": null
  },
  {
   "metadata": {},
   "cell_type": "code",
   "source": [
    "df[\"large_overhead\"] = df[\"instructions_weighted\"] < OVERHEAD_THRESHOLD\n",
    "df[\"small_overhead\"] = df[\"instructions_weighted\"] >= OVERHEAD_THRESHOLD"
   ],
   "id": "7cdf55d0d660d369",
   "outputs": [],
   "execution_count": null
  },
  {
   "metadata": {},
   "cell_type": "code",
   "source": "len(df[\"Code\"].unique())",
   "id": "9b0fdecbdced3ebb",
   "outputs": [],
   "execution_count": null
  },
  {
   "metadata": {},
   "cell_type": "code",
   "source": "df[\"large_overhead\"].sum() / (df[\"large_overhead\"].sum() +df[\"small_overhead\"].sum())  ",
   "id": "9ee7f49cd204534a",
   "outputs": [],
   "execution_count": null
  },
  {
   "metadata": {},
   "cell_type": "code",
   "source": [
    "#df[\"instructions_weighted\"].quantile(0.90)\n",
    "df[\"instructions_flat\"].quantile(0.9)"
   ],
   "id": "b1659bcf4810cbda",
   "outputs": [],
   "execution_count": null
  },
  {
   "metadata": {},
   "cell_type": "code",
   "source": [
    "df[\"large_overhead_flat\"] = df[\"instructions_flat\"] < OVERHEAD_THRESHOLD\n",
    "df[\"large_overhead_flat\"].sum() / (df[\"large_overhead\"].sum() +df[\"small_overhead\"].sum())  "
   ],
   "id": "af858d8259d5feb5",
   "outputs": [],
   "execution_count": null
  },
  {
   "metadata": {},
   "cell_type": "code",
   "source": [
    "# Number of parallel regions per Repo\n",
    "ax = df.groupby(\"Code\").size().value_counts().sort_index().plot.bar()\n",
    "ax.set_xlabel(\"Number of parallel Regions\")\n",
    "ax.set_ylabel(\"number of Codes\")\n",
    "ax.set_title(\"Number of parallel regions per Repo\")\n",
    "plt.savefig(os.path.join(plot_path, \"num_regions.pdf\"))\n",
    "plt.tight_layout()\n",
    "plt.show()\n"
   ],
   "id": "e992f8b49dd6e771",
   "outputs": [],
   "execution_count": null
  },
  {
   "metadata": {},
   "cell_type": "code",
   "source": "df.groupby(\"Code\").size().value_counts()",
   "id": "cf167e2c96fea3b5",
   "outputs": [],
   "execution_count": null
  },
  {
   "metadata": {},
   "cell_type": "code",
   "source": "df[\"default_tripcount_loops\"].sum()",
   "id": "906b68260420ba83",
   "outputs": [],
   "execution_count": null
  },
  {
   "metadata": {},
   "cell_type": "code",
   "source": "df[\"known_tripcount_loops\"].sum()",
   "id": "4eebe0235f7769fa",
   "outputs": [],
   "execution_count": null
  },
  {
   "metadata": {},
   "cell_type": "code",
   "source": "df[\"thread_dependant_trip_count_loops\"].sum()",
   "id": "2704dbc518269400",
   "outputs": [],
   "execution_count": null
  },
  {
   "metadata": {},
   "cell_type": "markdown",
   "source": [
    "Fragen:\n",
    "Wie viele user beachten die aspekte um gute openmp usage zu haben\n",
    "\n",
    "\n",
    "Analyse per project\n",
    "\n",
    "Verhältnis overhead/parallel region per project\n",
    "overhead mit 100 instructions annehmen\n",
    "codegröße insgesamt\n",
    "Wie viele regions per project, welcher typ\n",
    "\n",
    "welche konstrukte"
   ],
   "id": "9b3b6f3bac188267"
  },
  {
   "metadata": {},
   "cell_type": "code",
   "source": [
    "ax = df[\"instructions_flat\"].plot.hist(bins=np.logspace(start=0, stop=6))\n",
    "ax.set_xscale(\"log\")\n",
    "ax.set_xlabel(\"Instructions in parallel region\")\n",
    "ax.set_title(\"Distribution of Instruction counts of parallel region\")\n",
    "ax.axvline(x=100,color='purple', ls='--', lw=2)\n",
    "plt.savefig(os.path.join(plot_path, \"flat_instructions_distribution.pdf\"))"
   ],
   "id": "e8192b80d52d975",
   "outputs": [],
   "execution_count": null
  },
  {
   "metadata": {},
   "cell_type": "code",
   "source": [
    "# mit anderem default tripcount 10k oder so\n",
    "ax = df[\"instructions_weighted\"].plot.hist(bins=np.logspace(start=0, stop=6, num=50))\n",
    "ax.set_xscale(\"log\")\n",
    "ax.set_xlabel(\"Instructions in parallel region\")\n",
    "ax.set_title(\"Distribution of Instruction counts of parallel region\")\n",
    "ax.axvline(x=100,color='purple', ls='--', lw=2)\n",
    "plt.savefig(os.path.join(plot_path, \"weighted_instructions_distribution.pdf\"))"
   ],
   "id": "11d46504012de57e",
   "outputs": [],
   "execution_count": null
  },
  {
   "metadata": {},
   "cell_type": "code",
   "source": [
    "df_overhead_rating = df.groupby(\"Code\")[[\"large_overhead\", \"small_overhead\"]].sum()\n",
    "df_overhead_rating['percentage'] = df_overhead_rating['large_overhead'] / (\n",
    "        df_overhead_rating['large_overhead'] + df_overhead_rating['small_overhead'])"
   ],
   "id": "39ebabf0a858190d",
   "outputs": [],
   "execution_count": null
  },
  {
   "metadata": {},
   "cell_type": "markdown",
   "source": "",
   "id": "ff7836a1055c2fca"
  },
  {
   "metadata": {},
   "cell_type": "code",
   "source": [
    "# plot an excerpt\n",
    "ax = df_overhead_rating.iloc[0:10].plot.barh(stacked=True)"
   ],
   "id": "610aed8982081b7f",
   "outputs": [],
   "execution_count": null
  },
  {
   "metadata": {},
   "cell_type": "code",
   "source": [
    "# Repos with at least one example of large overhead region\n",
    "(df_overhead_rating[\"large_overhead\"] > 1).sum()"
   ],
   "id": "69ae64c1e91bac4c",
   "outputs": [],
   "execution_count": null
  },
  {
   "metadata": {},
   "cell_type": "code",
   "source": [
    "ax = df_overhead_rating['percentage'].plot.hist(bins=100)\n",
    "ax.set_xlabel(\"Fraction of high overhead parallel regions\")\n",
    "ax.set_ylabel(\"number of Codes\")\n",
    "ax.set_title(\"Fraction of high overhead parallel regions per project\")\n",
    "\n",
    "#plt.savefig(os.path.join(plot_path,\"plot.pdf\"))"
   ],
   "id": "5dbf6c9f656512cf",
   "outputs": [],
   "execution_count": null
  },
  {
   "metadata": {},
   "cell_type": "code",
   "source": [
    "fig, ax = plt.subplots(figsize=(10, 2))\n",
    "\n",
    "data = df_overhead_rating['percentage'].sort_values()\n",
    "\n",
    "# Normalize the percentage values to use as colors\n",
    "# Normalize the percentage values to use as colors\n",
    "norm = plt.Normalize(data.min(), data.max())\n",
    "sm = plt.cm.ScalarMappable(cmap=\"cool\", norm=norm)\n",
    "colors = sm.to_rgba(data)\n",
    "\n",
    "# Plot the horizontal bar segments\n",
    "start = 0\n",
    "for i, percentage in enumerate(data):\n",
    "    ax.barh(0, 1, left=start, color=colors[i]\n",
    "            #, edgecolor='black'\n",
    "            )\n",
    "    start += 1\n",
    "\n",
    "# Set the labels and title\n",
    "ax.set_xlabel(\"Number of Codes\")\n",
    "ax.set_yticks([])  # Hide y-axis ticks\n",
    "ax.set_xlim([0, len(data)])\n",
    "ax.set_title(\"Fraction of high overhead parallel regions per project\")\n",
    "\n",
    "# Add a legend\n",
    "cbar = plt.colorbar(sm, ax=ax, orientation='horizontal', pad=0.4)\n",
    "cbar.set_label('Fraction of high overhead parallel regions')\n",
    "fig.tight_layout()\n",
    "plt.savefig(os.path.join(plot_path, \"fraction_per_project_old.pdf\"))\n",
    "plt.show()\n"
   ],
   "id": "2b9962bd39022cf1",
   "outputs": [],
   "execution_count": null
  },
  {
   "metadata": {},
   "cell_type": "code",
   "source": [
    "fig, ax = plt.subplots(figsize=(4, 4))\n",
    "\n",
    "data = df_overhead_rating['percentage'].sort_values(ascending=False)\n",
    "\n",
    "ax.plot(range(len(data)), data, linewidth=4)\n",
    "\n",
    "# Set the labels and title\n",
    "ax.set_xlabel(\"Number of codes\")\n",
    "ax.set_ylabel(\"Fraction of high-overhead regions\")\n",
    "ax.set_ylim([-0.01, 1.01])\n",
    "ax.set_xlim([0, len(data)])\n",
    "ax.set_title(\"Distribution of high-overhead parallel regions\")\n",
    "\n",
    "fig.tight_layout()\n",
    "plt.savefig(os.path.join(plot_path, \"fraction_high_overhead_per_project.pdf\"), bbox_inches='tight')\n",
    "plt.show()"
   ],
   "id": "275ffc886027eb83",
   "outputs": [],
   "execution_count": null
  },
  {
   "metadata": {},
   "cell_type": "code",
   "source": "#df_loops = df.groupby(\"Code\")[[\"default_tripcount_loops\",\"known_tripcount_loops\",\"thread_dependant_trip_count_loops\"]].sum()",
   "id": "4c5b524981128e57",
   "outputs": [],
   "execution_count": null
  },
  {
   "metadata": {},
   "cell_type": "code",
   "source": [
    "df[\"loop_sum\"] = df[[\"default_tripcount_loops\", \"known_tripcount_loops\", \"thread_dependant_trip_count_loops\"]].sum(\n",
    "    axis=1)"
   ],
   "id": "2b7cf55ad0ca86c1",
   "outputs": [],
   "execution_count": null
  },
  {
   "metadata": {},
   "cell_type": "code",
   "source": "df",
   "id": "16680df91e13bda0",
   "outputs": [],
   "execution_count": null
  },
  {
   "metadata": {},
   "cell_type": "code",
   "source": [
    "ax = df[\"loop_sum\"].plot.hist(bins=np.logspace(start=0, stop=2, num=20))\n",
    "ax.set_xscale(\"log\")\n",
    "ax.set_xlabel(\"Loops in Parallel region\")\n",
    "ax.set_title(\"Distribution of loop counts in Parallel region\")\n",
    "#plt.savefig(os.path.join(plot_path, \"loops_distribution.pdf\"))\n",
    "df[\"loop_sum\"].value_counts()"
   ],
   "id": "9afa73c0c4aba38f",
   "outputs": [],
   "execution_count": null
  },
  {
   "metadata": {},
   "cell_type": "code",
   "source": [
    "# manual sorting into the bins\n",
    "bins = [1, 2, 3, 4, 5, 10, 20, 50, 100, 500]\n",
    "plot_pos= [1, 2, 3, 4, 5, 6 + 0.5, 7 + 0.5, 8 + 0.5, 9 + 0.5, 10 + 0.5, 11 + 0.5]\n",
    "\n",
    "default = [0 for _ in range(len(bins) + 1)]\n",
    "known = [0 for _ in range(len(bins) + 1)]\n",
    "thread = [0 for _ in range(len(bins) + 1)]\n",
    "\n",
    "for idx, row in df.iterrows():\n",
    "    if row['loop_sum'] > 0:\n",
    "        b_index = np.searchsorted(bins, row[\"loop_sum\"])\n",
    "        default[b_index] += row[\"default_tripcount_loops\"] / row[\"loop_sum\"]\n",
    "        known[b_index] += row[\"known_tripcount_loops\"] / row[\"loop_sum\"]\n",
    "        thread[b_index] += row[\"thread_dependant_trip_count_loops\"] / row[\"loop_sum\"]\n",
    "\n",
    "fig, ax = plt.subplots()\n",
    "ax.bar(\n",
    "    plot_pos,\n",
    "    default,\n",
    "    label=\"default_tripcount_loops\",\n",
    "    align='edge',\n",
    ")\n",
    "ax.bar(\n",
    "    plot_pos,\n",
    "    known,\n",
    "    bottom=default,\n",
    "    label=\"known_tripcount_loops\",\n",
    "    align='edge',\n",
    ")\n",
    "ax.bar(\n",
    "    plot_pos,\n",
    "    thread,\n",
    "    bottom=np.add(default, known),\n",
    "    label=\"thread_dependant_tripcount_loops\",\n",
    "    align='edge',\n",
    ")\n",
    "\n",
    "ax.set_xlabel(\"Loops in parallel region\")\n",
    "ax.set_ylabel(\"Frequency\")\n",
    "# bar coloring according to percentages of loops\n",
    "ax.set_title(\"Distribution of loop counts in parallel region\")\n",
    "ax.set_xticks(ticks=np.array(plot_pos) + 0.4,\n",
    "              labels=[1, 2, 3, 4, 5, \"<10\", \"<20\", \"<50\", \"<100\", \"<500\", \">500\"])\n",
    "ax.legend()\n",
    "\n",
    "plt.savefig(os.path.join(plot_path, \"loops_distribution.pdf\"))\n",
    "plt.show()\n",
    "\n",
    "thread"
   ],
   "id": "39e29c4e793b013d",
   "outputs": [],
   "execution_count": null
  },
  {
   "metadata": {},
   "cell_type": "code",
   "source": [
    "# per file statistics\n",
    "df_parallel_portion = df.groupby([\"Code\", \"File\"]).agg(\n",
    "    instructions_flat=pd.NamedAgg(column=\"instructions_flat\", aggfunc=\"sum\"),\n",
    "    TOTAL_FILE_INSTR_COUNT=pd.NamedAgg(column=\"TOTAL_FILE_INSTR_COUNT\", aggfunc=\"max\")\n",
    ").reset_index()\n",
    "# per project\n",
    "df_parallel_portion = df_parallel_portion.groupby(\"Code\")[[\"instructions_flat\", \"TOTAL_FILE_INSTR_COUNT\"]].sum()\n",
    "df_parallel_portion[\"percent_parallel\"] = df_parallel_portion[\"instructions_flat\"] / (\n",
    "        df_parallel_portion[\"instructions_flat\"] + df_parallel_portion[\"TOTAL_FILE_INSTR_COUNT\"])\n",
    "df_parallel_portion"
   ],
   "id": "eb6febddafc850c8",
   "outputs": [],
   "execution_count": null
  },
  {
   "metadata": {},
   "cell_type": "code",
   "source": [
    "fig, ax = plt.subplots(figsize=(10, 2))\n",
    "\n",
    "data = df_parallel_portion['percent_parallel'].sort_values()\n",
    "\n",
    "# Normalize the percentage values to use as colors\n",
    "# Normalize the percentage values to use as colors\n",
    "norm = plt.Normalize(data.min(), data.max())\n",
    "sm = plt.cm.ScalarMappable(cmap=plt.colormaps.get_cmap(\"cool\").reversed(), norm=norm)\n",
    "colors = sm.to_rgba(data)\n",
    "\n",
    "# Plot the horizontal bar segments\n",
    "start = 0\n",
    "for i, percentage in enumerate(data):\n",
    "    ax.barh(0, 1, left=start, color=colors[i]\n",
    "            #, edgecolor='black'\n",
    "            )\n",
    "    start += 1\n",
    "\n",
    "# Set the labels and title\n",
    "ax.set_xlabel(\"Number of Codes\")\n",
    "ax.set_yticks([])  # Hide y-axis ticks\n",
    "ax.set_xlim([0, len(data)])\n",
    "ax.set_title(\"Fraction of assembly instructions inside of Parallel Regions\")\n",
    "\n",
    "# Add a legend\n",
    "cbar = plt.colorbar(sm, ax=ax, orientation='horizontal', pad=0.4)\n",
    "cbar.set_label('Fraction of assembly instructions inside of Parallel Regions')\n",
    "fig.tight_layout()\n",
    "plt.savefig(os.path.join(plot_path, \"fraction_of_parallel_region_old.pdf\"))\n",
    "plt.show()"
   ],
   "id": "1e2481d83826319a",
   "outputs": [],
   "execution_count": null
  },
  {
   "metadata": {},
   "cell_type": "code",
   "source": [
    "fig, ax = plt.subplots(figsize=(4, 4))\n",
    "\n",
    "data = df_parallel_portion['percent_parallel'].sort_values(ascending=False)\n",
    "\n",
    "ax.plot(range(len(data)), data, linewidth=4)\n",
    "\n",
    "# Set the labels and title\n",
    "ax.set_xlabel(\"Number of codes\")\n",
    "ax.set_ylabel(\"Parallel fraction\")\n",
    "ax.set_ylim([-0.01, 1.01])\n",
    "ax.set_xlim([0, len(data)])\n",
    "ax.set_title(\"Fraction of instructions in parallel regions\")\n",
    "\n",
    "fig.tight_layout()\n",
    "plt.savefig(os.path.join(plot_path, \"fraction_of_parallel_region.pdf\"), bbox_inches='tight')\n",
    "plt.show()"
   ],
   "id": "5fa42cf0cdf12e5c",
   "outputs": [],
   "execution_count": null
  },
  {
   "metadata": {},
   "cell_type": "code",
   "source": [
    "#pd.to_datetime(df_repo_metadata[\"PushDate\"])\n",
    "#for schedule(dynamic, 10) nowait"
   ],
   "id": "379eab70623a9934",
   "outputs": [],
   "execution_count": null
  },
  {
   "metadata": {},
   "cell_type": "code",
   "source": "",
   "id": "cf942dc6460535e0",
   "outputs": [],
   "execution_count": null
  },
  {
   "metadata": {},
   "cell_type": "code",
   "source": [
    "def get_closing_brace(s, start_pos):\n",
    "    \"\"\"\n",
    "    Returns the position of the corresponding closing brace given a string and the position of an opening brace.\n",
    "\n",
    "    Parameters:\n",
    "    s (str): The string to search for the closing brace.\n",
    "    start_pos (int): The position of the opening brace.\n",
    "\n",
    "    Returns:\n",
    "    int: The position of the closing brace, or -1 if not found.\n",
    "    \"\"\"\n",
    "    # get the opening brace character\n",
    "    open_brace = s[start_pos]\n",
    "\n",
    "    # determine the closing brace character\n",
    "    if open_brace == '(':\n",
    "        close_brace = ')'\n",
    "    elif open_brace == '[':\n",
    "        close_brace = ']'\n",
    "    elif open_brace == '{':\n",
    "        close_brace = '}'\n",
    "    else:\n",
    "        # not a valid opening brace character\n",
    "        return -1\n",
    "\n",
    "    # search for the closing brace\n",
    "    count = 1\n",
    "    pos = start_pos + 1\n",
    "    while pos < len(s) and count > 0:\n",
    "        if s[pos] == open_brace:\n",
    "            count += 1\n",
    "        elif s[pos] == close_brace:\n",
    "            count -= 1\n",
    "        pos += 1\n",
    "\n",
    "    # return the position of the closing brace\n",
    "    if count == 0:\n",
    "        return pos - 1\n",
    "    else:\n",
    "        return -1\n",
    "\n",
    "\n",
    "def tokenize_pragma(pragma):\n",
    "    # removes extra specification in the braces\n",
    "    without_braces = pragma\n",
    "    while '(' in without_braces:\n",
    "        index = without_braces.find('(')\n",
    "        closing = get_closing_brace(without_braces, index)\n",
    "        without_braces = (without_braces[:index] + without_braces[closing + 1:])\n",
    "    return without_braces.strip().split(' ')\n",
    "\n",
    "\n",
    "df_pragmas[\"openmp_pragma_tokenized\"] = df_pragmas[\"openmp_pragma_used\"].apply(tokenize_pragma)\n",
    "all_clauses = set([clause for clauses in df_pragmas[\"openmp_pragma_tokenized\"] for clause in clauses])\n",
    "if '' in all_clauses:\n",
    "    all_clauses.remove('')\n",
    "\n",
    "for c in all_clauses:\n",
    "    df_pragmas[c] = df_pragmas['openmp_pragma_tokenized'].apply(lambda x: c in x)\n",
    "df_pragmas[\"parallel_for\"] = df_pragmas[\"parallel\"] & df_pragmas[\"for\"]\n",
    "# Set 'parallel' and 'for' columns to False where 'parallel_for' is True\n",
    "df_pragmas.loc[df_pragmas['parallel_for'], ['parallel', 'for']] = False\n",
    "df_pragmas = df_pragmas.copy()\n"
   ],
   "id": "d85fb3f5ddbc11ba",
   "outputs": [],
   "execution_count": null
  },
  {
   "metadata": {},
   "cell_type": "code",
   "source": [
    "#df_pragmas.groupby([\"Code\"]).size().sort_values(ascending=False)\n",
    "ax = df_pragmas.groupby(\"Code\").size().value_counts().sort_index().plot.bar()\n",
    "ax.set_xlabel(\"Number of OpenMP Pragmas\")\n",
    "ax.set_ylabel(\"number of Codes\")\n",
    "ax.set_title(\"Number of OpenMP pragmas per Repo\")\n",
    "plt.savefig(os.path.join(plot_path, \"num_pragmas_old.pdf\"))\n",
    "plt.tight_layout()\n",
    "plt.show()\n",
    "df_pragmas.groupby(\"Code\").size().value_counts()"
   ],
   "id": "acafe95729ab01b",
   "outputs": [],
   "execution_count": null
  },
  {
   "metadata": {},
   "cell_type": "code",
   "source": [
    "#df_pragmas.groupby([\"Code\"]).sum()\n",
    "df_pragmas[\"parallel_for\"].value_counts()"
   ],
   "id": "d273ef1e78fe2ef6",
   "outputs": [],
   "execution_count": null
  },
  {
   "metadata": {},
   "cell_type": "code",
   "source": [
    "df_pragmas[\"for\"].value_counts()\n",
    "#ax = df_pragmas.groupby([\"Code\"])[\"for\"].sum().value_counts().sort_index().plot.bar()\n",
    "#ax.set_xlabel(\"Number of For Pragmas\")\n",
    "#ax.set_ylabel(\"number of Codes\")\n",
    "#ax.set_title(\"Number of omp for pragmas per Repo\")\n",
    "#plt.savefig(os.path.join(plot_path, \"num_for_pragma.pdf\"))\n",
    "#plt.tight_layout()\n",
    "#plt.show()"
   ],
   "id": "929d61a8372867dc",
   "outputs": [],
   "execution_count": null
  },
  {
   "metadata": {},
   "cell_type": "code",
   "source": [
    "#ax = df_pragmas.groupby([\"Code\"])[\"parallel\"].sum().value_counts().sort_index().plot.bar()\n",
    "#ax.set_xlabel(\"Number of parallel Pragmas\")\n",
    "#ax.set_ylabel(\"number of Codes\")\n",
    "#ax.set_title(\"Number of omp parallel pragmas per Repo\")\n",
    "#plt.savefig(os.path.join(plot_path, \"num_parallel_pragma.pdf\"))\n",
    "#plt.tight_layout()\n",
    "#plt.show()\n",
    "#df_pragmas.groupby([\"Code\"])[\"parallel\"].sum().value_counts()"
   ],
   "id": "fb93616c76b66b31",
   "outputs": [],
   "execution_count": null
  },
  {
   "metadata": {},
   "cell_type": "code",
   "source": [
    "#ax = df_pragmas.groupby([\"Code\"])[\"task\"].sum().value_counts().sort_index().plot.bar()\n",
    "#ax.set_xlabel(\"Number of task Pragmas\")\n",
    "#ax.set_ylabel(\"number of Codes\")\n",
    "#ax.set_title(\"Number of omp task pragmas per Repo\")\n",
    "#plt.savefig(os.path.join(plot_path, \"num_task_pragma.pdf\"))\n",
    "#plt.tight_layout()\n",
    "#plt.show()"
   ],
   "id": "718a86e93a7ca6ff",
   "outputs": [],
   "execution_count": null
  },
  {
   "metadata": {},
   "cell_type": "code",
   "source": [
    "pivot_table = pd.pivot_table(df_pragmas, columns=\"Code\", values=all_clauses.union([\"parallel_for\"]), aggfunc=\"sum\")\n",
    "# parallel for is both parallel and for\n",
    "pivot_table.loc[\"parallel\"] = pivot_table.loc[\"parallel\"] - pivot_table.loc[\"parallel_for\"]\n",
    "pivot_table.loc[\"for\"] = pivot_table.loc[\"for\"] - pivot_table.loc[\"parallel_for\"]"
   ],
   "id": "a1f9dc889a354019",
   "outputs": [],
   "execution_count": null
  },
  {
   "metadata": {},
   "cell_type": "code",
   "source": "pivot_table.sum(axis=1).sort_values(ascending=False)",
   "id": "f7a404b7aa98a53a",
   "outputs": [],
   "execution_count": null
  },
  {
   "metadata": {},
   "cell_type": "code",
   "source": [
    "#to_view = [\"parallel\",\"for\",\"parallel_for\",\"task\",\"section\",\"critical\",\"single\",\"simd\",\"atomic\",\"barrier\"]\n",
    "to_view = [\"parallel\", \"for\", \"parallel_for\", \"task\", \"section\", \"critical\", \"single\", \"atomic\", \"barrier\"]\n",
    "not_to_view = [\"Code\", \"src_location\", \"src_location_line_number\", \"call\", \"openmp_pragma_used\",\n",
    "               \"openmp_pragma_tokenized\"]\n",
    "relevant_cols = [c for c in df_pragmas.columns if c not in not_to_view]"
   ],
   "id": "7276972fed6d3a6e",
   "outputs": [],
   "execution_count": null
  },
  {
   "metadata": {},
   "cell_type": "code",
   "source": [
    "grouping = df_pragmas.groupby([\"Code\"]).sum()\n",
    "# manual sorting into the bins\n",
    "bins = [1, 2, 3, 4, 5, 10, 20, 50, 100, 500]\n",
    "\n",
    "cat_data = {key: [0 for _ in range(len(bins) + 1)] for key in to_view + [\"other\"]}\n",
    "\n",
    "for idx, row in grouping.iterrows():\n",
    "    sum_pragmas = df_pragmas.groupby(\"Code\").size()[row.name]\n",
    "    if sum_pragmas > 0:\n",
    "        b_index = np.searchsorted(bins, sum_pragmas)\n",
    "        sum_shown = 0\n",
    "        for cat in to_view:\n",
    "            cat_data[cat][b_index] += row[cat] / sum_pragmas\n",
    "            sum_shown += row[cat]\n",
    "        cat_data[\"other\"][b_index] += (sum_pragmas - sum_shown) / sum_pragmas\n",
    "\n",
    "fig, ax = plt.subplots()\n",
    "bot = np.zeros(len(bins) + 1)\n",
    "for cat in to_view + [\"other\"]:\n",
    "    ax.bar(\n",
    "        [1, 2, 3, 4, 5, 6 + 0.5, 7 + 0.5, 8 + 0.5, 9 + 0.5, 10 + 0.5, 11 + 0.5],\n",
    "        cat_data[cat],\n",
    "        label=cat,\n",
    "        #width=10,\n",
    "        align='edge',\n",
    "        bottom=bot\n",
    "    )\n",
    "    bot += cat_data[cat]\n",
    "\n",
    "#ax.set_xscale(\"log\")\n",
    "ax.set_xlabel(\"OpenMP pragmas per repository\")\n",
    "ax.set_xticks(ticks=np.array([1, 2, 3, 4, 5, 6 + 0.5, 7 + 0.5, 8 + 0.5, 9 + 0.5, 10 + 0.5, 11 + 0.5]) + 0.4,\n",
    "              labels=[1, 2, 3, 4, 5, \"<10\", \"<20\", \"<50\", \"<100\", \"<500\", \">500\"])\n",
    "ax.set_ylabel(\"Frequency\")\n",
    "# bar coloring according to percentages of loops\n",
    "ax.set_title(\"Number of OpenMP pragmas per repository\")\n",
    "ax.legend()\n",
    "\n",
    "plt.savefig(os.path.join(plot_path, \"num_pragmas.pdf\"))\n",
    "plt.show()\n",
    "\n",
    "cat_data[\"parallel_for\"]\n"
   ],
   "id": "58b722800eed369",
   "outputs": [],
   "execution_count": null
  },
  {
   "metadata": {},
   "cell_type": "code",
   "source": [
    "grouping = df.groupby(\"Code\").size()\n",
    "# manual sorting into the bins\n",
    "bins = [1, 2, 3, 4, 5, 10, 20, 50, 100, 500]\n",
    "\n",
    "data = [0 for _ in range(len(bins) + 1)]\n",
    "\n",
    "for elem in grouping:\n",
    "    sum_regions = elem\n",
    "\n",
    "    if sum_regions > 0:\n",
    "        b_index = np.searchsorted(bins, sum_regions)\n",
    "        data[b_index] += 1\n",
    "\n",
    "fig, ax = plt.subplots()\n",
    "\n",
    "ax.bar(\n",
    "    [1, 2, 3, 4, 5, 6 + 0.5, 7 + 0.5, 8 + 0.5, 9 + 0.5, 10 + 0.5, 11 + 0.5],\n",
    "    data,\n",
    "    #label=cat,\n",
    "    #width=10,\n",
    "    align='edge',\n",
    "    # bottom=bot\n",
    ")\n",
    "\n",
    "#ax.set_xscale(\"log\")\n",
    "ax.set_xlabel(\"parallel regions per repository\")\n",
    "ax.set_xticks(ticks=np.array([1, 2, 3, 4, 5, 6 + 0.5, 7 + 0.5, 8 + 0.5, 9 + 0.5, 10 + 0.5, 11 + 0.5]) + 0.4,\n",
    "              labels=[1, 2, 3, 4, 5, \"<10\", \"<20\", \"<50\", \"<100\", \"<500\", \">500\"])\n",
    "ax.set_ylabel(\"Frequency\")\n",
    "# bar coloring according to percentages of loops\n",
    "ax.set_title(\"Number of parallel regions per repository\")\n",
    "#ax.legend()\n",
    "\n",
    "plt.savefig(os.path.join(plot_path, \"num_regions.pdf\"))\n",
    "plt.show()\n",
    "\n",
    "data[0]"
   ],
   "id": "f8a21846ffeb6659",
   "outputs": [],
   "execution_count": null
  },
  {
   "metadata": {},
   "cell_type": "code",
   "source": "df_stars_with_rating = pd.concat([df_overhead_rating, df_repo_metadata.set_index(\"Code\")], axis=1)",
   "id": "968fccdb0abcbaf2",
   "outputs": [],
   "execution_count": null
  },
  {
   "metadata": {},
   "cell_type": "code",
   "source": [
    "ax = df_stars_with_rating.plot.scatter(\"percentage\",\"Stars\")\n",
    "ax.set_title(\"Stars compared to percentage of high overhead\")\n",
    "#ax.set_ylim([9,400])\n",
    "ax.set_yscale(\"log\")\n",
    "ax.set_ylabel(\"GitHub stars\")\n",
    "ax.set_xlabel(\"Percentage of parallel regions with high overhead\")\n",
    "plt.savefig(os.path.join(plot_path, \"stars_overhead.pdf\"))"
   ],
   "id": "77e2ef90808e754a",
   "outputs": [],
   "execution_count": null
  },
  {
   "metadata": {},
   "cell_type": "code",
   "source": "(df_stars_with_rating[\"Stars\"]>1000).sum()",
   "id": "bfe451033b6bae46",
   "outputs": [],
   "execution_count": null
  },
  {
   "metadata": {},
   "cell_type": "code",
   "source": "",
   "id": "f62dcab92f8bd9d3",
   "outputs": [],
   "execution_count": null
  },
  {
   "metadata": {},
   "cell_type": "code",
   "source": [
    "#from github import Github\n",
    "#from github import Auth\n",
    "## unauthorized access possible but it has limit of 60 requests per second\n",
    "#auth = Auth.Token(\"\")\n",
    "#g = Github(auth=auth)\n",
    "\n",
    "##populate the missing push dates\n",
    "#push_date_df = pd.read_csv(\"/home/tim/scratch/openmp-usage-analysis-binaries/fixed_commit_dates.csv\",index_col=0,parse_dates=[\"PushDate\"])\n",
    "#for idx, row in tqdm(df_repo_metadata.iterrows(),total=len(df_repo_metadata)):\n",
    "#    if row[\"Code\"] not in push_date_df.index:\n",
    "#        print(row[\"Code\"])\n",
    "#        if row[\"Code\"] not in [\"RezaeiAlireza--Parallel-LLCS-Solver\",\"Craigspaz--OpenMPAWSLambda\"]:\n",
    "#            repo_name = row[\"Code\"].replace(\"--\", \"/\",1)\n",
    "#            repo = g.get_repo(repo_name)\n",
    "#            commit = repo.get_commit(row[\"usedHash\"])\n",
    "#            date= commit.commit.author.date\n",
    "#            push_date_df.loc[row[\"Code\"]]=date\n",
    "#            push_date_df.to_csv(\"/home/tim/scratch/openmp-usage-analysis-binaries/fixed_commit_dates.csv\")\n",
    "            \n"
   ],
   "id": "cf8679e678a5781b",
   "outputs": [],
   "execution_count": null
  },
  {
   "metadata": {},
   "cell_type": "code",
   "source": "push_date_df = pd.read_csv(\"/home/tim/scratch/openmp-usage-analysis-binaries/fixed_commit_dates.csv\",index_col=0,parse_dates=[\"PushDate\"])",
   "id": "baf9a385cec69f2e",
   "outputs": [],
   "execution_count": null
  },
  {
   "metadata": {},
   "cell_type": "code",
   "source": "df_repo_metadata[df_repo_metadata[\"Code\"].isin([\"RezaeiAlireza--Parallel-LLCS-Solver\",\"Craigspaz--OpenMPAWSLambda\"])]",
   "id": "d199bc9b1302543a",
   "outputs": [],
   "execution_count": null
  },
  {
   "metadata": {},
   "cell_type": "code",
   "source": "",
   "id": "6760a12b88c6f89b",
   "outputs": [],
   "execution_count": null
  },
  {
   "metadata": {},
   "cell_type": "code",
   "source": [
    "from matplotlib.dates import YearLocator, DateFormatter\n",
    "\n",
    "fig, ax = plt.subplots()\n",
    "\n",
    "if not df_overhead_rating.index.name == \"Code\":\n",
    "    df_overhead_rating.set_index(\"Code\")\n",
    "\n",
    "\n",
    "data = df_repo_metadata.join(df_overhead_rating, on=\"Code\")\n",
    "data = data.drop(\"PushDate\",axis=1).join(push_date_df,on=\"Code\")\n",
    "\n",
    "\n",
    "time_data = data[[\"PushDate\",\"percentage\",\"Stars\"]].dropna()\n",
    "time_data[\"PushDate\"] = pd.to_datetime(time_data[\"PushDate\"])\n",
    "\n",
    "scatter= time_data.sort_values(\"PushDate\").plot.scatter(\"PushDate\",\"percentage\", c=\"Stars\",norm=\"symlog\",cmap=\"flare\",ax=ax)\n",
    "#ax.set_yscale(\"log\")\n",
    "plt.xticks(rotation=30)\n",
    "ax.set_ylabel(\"percentage of high-overhead parallel regions\")\n",
    "ax.set_xlabel(\"commit time\")\n",
    "# bar coloring according to percentages of loops\n",
    "ax.set_title(\"Percentage of high-overhead regions over time\")\n",
    "#ax.legend()\n",
    "ax.xaxis.set_major_locator(YearLocator(1))\n",
    "ax.xaxis.set_major_formatter(DateFormatter(\"%Y\"))\n",
    "\n",
    "\n",
    "plt.tight_layout()\n",
    "plt.savefig(os.path.join(plot_path, \"date_overhead_with_stars.pdf\"))\n",
    "plt.show()"
   ],
   "id": "9fae79dc1c71b50c",
   "outputs": [],
   "execution_count": null
  },
  {
   "metadata": {},
   "cell_type": "code",
   "source": [
    "data = df_repo_metadata.drop(\"buildScript\",axis=1).drop(\"expert\",axis=1).drop(\"PushDate\",axis=1).join(push_date_df, on=\"Code\")\n",
    "data.to_csv(output_file_metadata)"
   ],
   "id": "816a4e615d2797c5",
   "outputs": [],
   "execution_count": null
  },
  {
   "metadata": {},
   "cell_type": "code",
   "source": "df_repo_metadata[df_repo_metadata[\"build_script\"].str.contains(\"fail\")]",
   "id": "3c18aa01ef46c5b",
   "outputs": [],
   "execution_count": null
  },
  {
   "metadata": {},
   "cell_type": "code",
   "source": "data",
   "id": "1ec06a9f325628a",
   "outputs": [],
   "execution_count": null
  },
  {
   "metadata": {},
   "cell_type": "code",
   "source": [
    "num_repos=0\n",
    "num_repos_null_date=0\n",
    "for idx, row in df_repo_metadata.iterrows():\n",
    "    if not pd.isna(row[\"build_script\"]):\n",
    "        if not \"fail\" in row[\"build_script\"]:\n",
    "            num_repos=num_repos+1\n",
    "            if row[\"PushDate\"] is None:\n",
    "                num_repos_null_date=num_repos_null_date+1\n",
    "num_repos_null_date,num_repos"
   ],
   "id": "ddf5f60a08c1e012",
   "outputs": [],
   "execution_count": null
  },
  {
   "metadata": {},
   "cell_type": "code",
   "source": "",
   "id": "a75e7fdda96b874",
   "outputs": [],
   "execution_count": null
  }
 ],
 "metadata": {
  "kernelspec": {
   "display_name": "Python 3",
   "language": "python",
   "name": "python3"
  },
  "language_info": {
   "codemirror_mode": {
    "name": "ipython",
    "version": 2
   },
   "file_extension": ".py",
   "mimetype": "text/x-python",
   "name": "python",
   "nbconvert_exporter": "python",
   "pygments_lexer": "ipython2",
   "version": "2.7.6"
  }
 },
 "nbformat": 4,
 "nbformat_minor": 5
}
