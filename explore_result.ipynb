{
 "cells": [
  {
   "cell_type": "code",
   "id": "initial_id",
   "metadata": {
    "collapsed": true
   },
   "source": [
    "import pandas as pd\n",
    "import numpy as np\n",
    "import os\n",
    "import re\n",
    "\n",
    "import matplotlib.pyplot as plt\n",
    "import seaborn as sns\n",
    "\n",
    "sns.set_style(\"whitegrid\")\n",
    "\n",
    "input_file = \"/home/tim/cluster/openmp-usage-analysis/result.csv\"\n",
    "input_file_pragmas = \"/home/tim/cluster/openmp-usage-analysis/pragma_result.csv\"\n",
    "input_file_metadata = \"/home/tim/scratch/openmp-usage-analysis-binaries/result.csv\"\n",
    "\n",
    "plot_path = \"/home/tim/paper/openmp-analysis-paper/media\"\n",
    "df = pd.read_csv(input_file, index_col=0)\n",
    "df_pragmas = pd.read_csv(input_file_pragmas, index_col=0)\n",
    "df_repo_metadata = pd.read_csv(input_file_metadata, index_col=0)"
   ],
   "outputs": [],
   "execution_count": null
  },
  {
   "metadata": {},
   "cell_type": "code",
   "source": [
    "#pre-processing\n",
    "df_repo_metadata[\"Code\"] = df_repo_metadata[\"Code\"].str.replace(\"/\",\"--\") "
   ],
   "id": "19b4ef033c6411c3",
   "outputs": [],
   "execution_count": null
  },
  {
   "metadata": {},
   "cell_type": "code",
   "source": "OVERHEAD_THRESHOLD = 100",
   "id": "ee40524707552c17",
   "outputs": [],
   "execution_count": null
  },
  {
   "metadata": {},
   "cell_type": "code",
   "source": [
    "df[\"large_overhead\"] = df[\"instructions_weighted\"] < OVERHEAD_THRESHOLD\n",
    "df[\"small_overhead\"] = df[\"instructions_weighted\"] >= OVERHEAD_THRESHOLD"
   ],
   "id": "7cdf55d0d660d369",
   "outputs": [],
   "execution_count": null
  },
  {
   "metadata": {},
   "cell_type": "code",
   "source": "len(df[\"Code\"].unique())",
   "id": "9b0fdecbdced3ebb",
   "outputs": [],
   "execution_count": null
  },
  {
   "metadata": {},
   "cell_type": "code",
   "source": "pass",
   "id": "9ee7f49cd204534a",
   "outputs": [],
   "execution_count": null
  },
  {
   "metadata": {},
   "cell_type": "code",
   "source": [
    "# Number of parallel regions per Repo\n",
    "ax = df.groupby(\"Code\").size().value_counts().sort_index().plot.bar()\n",
    "ax.set_xlabel(\"Number of parallel Regions\")\n",
    "ax.set_ylabel(\"number of Codes\")\n",
    "ax.set_title(\"Number of parallel regions per Repo\")\n",
    "plt.savefig(os.path.join(plot_path, \"num_regions.pdf\"))\n",
    "plt.tight_layout()\n",
    "plt.show()\n"
   ],
   "id": "e992f8b49dd6e771",
   "outputs": [],
   "execution_count": null
  },
  {
   "metadata": {},
   "cell_type": "code",
   "source": "",
   "id": "cf167e2c96fea3b5",
   "outputs": [],
   "execution_count": null
  },
  {
   "metadata": {},
   "cell_type": "code",
   "source": "df[\"default_tripcount_loops\"].sum()",
   "id": "906b68260420ba83",
   "outputs": [],
   "execution_count": null
  },
  {
   "metadata": {},
   "cell_type": "code",
   "source": "df[\"known_tripcount_loops\"].sum()",
   "id": "4eebe0235f7769fa",
   "outputs": [],
   "execution_count": null
  },
  {
   "metadata": {},
   "cell_type": "code",
   "source": "df[\"thread_dependant_trip_count_loops\"].sum()",
   "id": "2704dbc518269400",
   "outputs": [],
   "execution_count": null
  },
  {
   "metadata": {},
   "cell_type": "markdown",
   "source": [
    "Fragen:\n",
    "Wie viele user beachten die aspekte um gute openmp usage zu haben\n",
    "\n",
    "\n",
    "Analyse per project\n",
    "\n",
    "Verhältnis overhead/parallel region per project\n",
    "overhead mit 100 instructions annehmen\n",
    "codegröße insgesamt\n",
    "Wie viele regions per project, welcher typ\n",
    "\n",
    "welche konstrukte"
   ],
   "id": "9b3b6f3bac188267"
  },
  {
   "metadata": {},
   "cell_type": "code",
   "source": [
    "ax = df[\"instructions_flat\"].plot.hist(bins=np.logspace(start=0, stop=6))\n",
    "ax.set_xscale(\"log\")\n",
    "ax.set_xlabel(\"Instructions in Parallel region\")\n",
    "ax.set_title(\"Distribution of Instruction counts of Parallel region\")\n",
    "plt.savefig(os.path.join(plot_path, \"flat_instructions_distribution.pdf\"))"
   ],
   "id": "e8192b80d52d975",
   "outputs": [],
   "execution_count": null
  },
  {
   "metadata": {},
   "cell_type": "code",
   "source": [
    "# mit anderem default tripcount 10k oder so\n",
    "ax = df[\"instructions_weighted\"].plot.hist(bins=np.logspace(start=0, stop=6, num=50))\n",
    "ax.set_xscale(\"log\")\n",
    "ax.set_xlabel(\"Instructions in Parallel region\")\n",
    "ax.set_title(\"Distribution of Instruction counts of Parallel region\")\n",
    "plt.savefig(os.path.join(plot_path, \"weighted_instructions_distribution.pdf\"))"
   ],
   "id": "11d46504012de57e",
   "outputs": [],
   "execution_count": null
  },
  {
   "metadata": {},
   "cell_type": "code",
   "source": [
    "df_overhead_rating = df.groupby(\"Code\")[[\"large_overhead\", \"small_overhead\"]].sum()\n",
    "df_overhead_rating['percentage'] = df_overhead_rating['large_overhead'] / (\n",
    "        df_overhead_rating['large_overhead'] + df_overhead_rating['small_overhead'])"
   ],
   "id": "39ebabf0a858190d",
   "outputs": [],
   "execution_count": null
  },
  {
   "metadata": {},
   "cell_type": "markdown",
   "source": "",
   "id": "ff7836a1055c2fca"
  },
  {
   "metadata": {},
   "cell_type": "code",
   "source": [
    "# plot an excerpt\n",
    "ax = df_overhead_rating.iloc[0:10].plot.barh(stacked=True)"
   ],
   "id": "610aed8982081b7f",
   "outputs": [],
   "execution_count": null
  },
  {
   "metadata": {},
   "cell_type": "code",
   "source": [
    "# Repos with at least one example of large overhead region\n",
    "(df_overhead_rating[\"large_overhead\"] > 1).sum()"
   ],
   "id": "69ae64c1e91bac4c",
   "outputs": [],
   "execution_count": null
  },
  {
   "metadata": {},
   "cell_type": "code",
   "source": [
    "ax = df_overhead_rating['percentage'].plot.hist(bins=100)\n",
    "ax.set_xlabel(\"Fraction of high overhead parallel regions\")\n",
    "ax.set_ylabel(\"number of Codes\")\n",
    "ax.set_title(\"Fraction of high overhead parallel regions per project\")\n",
    "\n",
    "#plt.savefig(os.path.join(plot_path,\"plot.pdf\"))"
   ],
   "id": "5dbf6c9f656512cf",
   "outputs": [],
   "execution_count": null
  },
  {
   "metadata": {},
   "cell_type": "code",
   "source": [
    "fig, ax = plt.subplots(figsize=(10, 2))\n",
    "\n",
    "data = df_overhead_rating['percentage'].sort_values()\n",
    "\n",
    "# Normalize the percentage values to use as colors\n",
    "# Normalize the percentage values to use as colors\n",
    "norm = plt.Normalize(data.min(), data.max())\n",
    "sm = plt.cm.ScalarMappable(cmap=\"cool\", norm=norm)\n",
    "colors = sm.to_rgba(data)\n",
    "\n",
    "# Plot the horizontal bar segments\n",
    "start = 0\n",
    "for i, percentage in enumerate(data):\n",
    "    ax.barh(0, 1, left=start, color=colors[i]\n",
    "            #, edgecolor='black'\n",
    "            )\n",
    "    start += 1\n",
    "\n",
    "# Set the labels and title\n",
    "ax.set_xlabel(\"Number of Codes\")\n",
    "ax.set_yticks([])  # Hide y-axis ticks\n",
    "ax.set_xlim([0, len(data)])\n",
    "ax.set_title(\"Fraction of high overhead parallel regions per project\")\n",
    "\n",
    "# Add a legend\n",
    "cbar = plt.colorbar(sm, ax=ax, orientation='horizontal', pad=0.4)\n",
    "cbar.set_label('Fraction of high overhead parallel regions')\n",
    "fig.tight_layout()\n",
    "plt.savefig(os.path.join(plot_path, \"fraction_per_project.pdf\"))\n",
    "plt.show()\n"
   ],
   "id": "2b9962bd39022cf1",
   "outputs": [],
   "execution_count": null
  },
  {
   "metadata": {},
   "cell_type": "code",
   "source": "#df_loops = df.groupby(\"Code\")[[\"default_tripcount_loops\",\"known_tripcount_loops\",\"thread_dependant_trip_count_loops\"]].sum()",
   "id": "4c5b524981128e57",
   "outputs": [],
   "execution_count": null
  },
  {
   "metadata": {},
   "cell_type": "code",
   "source": [
    "df[\"loop_sum\"] = df[[\"default_tripcount_loops\", \"known_tripcount_loops\", \"thread_dependant_trip_count_loops\"]].sum(\n",
    "    axis=1)"
   ],
   "id": "2b7cf55ad0ca86c1",
   "outputs": [],
   "execution_count": null
  },
  {
   "metadata": {},
   "cell_type": "code",
   "source": "df",
   "id": "16680df91e13bda0",
   "outputs": [],
   "execution_count": null
  },
  {
   "metadata": {},
   "cell_type": "code",
   "source": [
    "ax = df[\"loop_sum\"].plot.hist(bins=np.logspace(start=0, stop=2, num=20))\n",
    "ax.set_xscale(\"log\")\n",
    "ax.set_xlabel(\"Loops in Parallel region\")\n",
    "ax.set_title(\"Distribution of loop counts in Parallel region\")\n",
    "#plt.savefig(os.path.join(plot_path, \"loops_distribution.pdf\"))"
   ],
   "id": "9afa73c0c4aba38f",
   "outputs": [],
   "execution_count": null
  },
  {
   "metadata": {},
   "cell_type": "code",
   "source": [
    "# manual sorting into the bins\n",
    "bins = np.logspace(start=0, stop=2, num=21)\n",
    "\n",
    "default = [0 for _ in range(len(bins) + 1)]\n",
    "known = [0 for _ in range(len(bins) + 1)]\n",
    "thread = [0 for _ in range(len(bins) + 1)]\n",
    "\n",
    "for idx, row in df.iterrows():\n",
    "    if row['loop_sum'] > 0:\n",
    "        b_index = np.searchsorted(bins, row[\"loop_sum\"])\n",
    "        default[b_index] += row[\"default_tripcount_loops\"] / row[\"loop_sum\"]\n",
    "        known[b_index] += row[\"known_tripcount_loops\"] / row[\"loop_sum\"]\n",
    "        thread[b_index] += row[\"thread_dependant_trip_count_loops\"] / row[\"loop_sum\"]\n",
    "\n",
    "default = default[:-2]\n",
    "known = known[:-2]\n",
    "thread = thread[:-2]\n",
    "\n",
    "fig, ax = plt.subplots()\n",
    "ax.bar(\n",
    "    bins[:-1],\n",
    "    default,\n",
    "    label=\"default_tripcount_loops\",\n",
    "    width=np.diff(bins),\n",
    "    align='edge',\n",
    ")\n",
    "ax.bar(\n",
    "    bins[:-1],\n",
    "    known,\n",
    "    bottom=default,\n",
    "    label=\"known_tripcount_loops\",\n",
    "    width=np.diff(bins),\n",
    "    align='edge',\n",
    ")\n",
    "ax.bar(\n",
    "    bins[:-1],\n",
    "    thread,\n",
    "    bottom=np.add(default, known),\n",
    "    label=\"thread_dependant_tripcount_loops\",\n",
    "    width=np.diff(bins),\n",
    "    align='edge',\n",
    ")\n",
    "\n",
    "ax.set_xscale(\"log\")\n",
    "ax.set_xlabel(\"Loops in Parallel region\")\n",
    "ax.set_ylabel(\"Frequency\")\n",
    "# bar coloring according to percentages of loops\n",
    "ax.set_title(\"Distribution of loop counts in Parallel region\")\n",
    "ax.legend()\n",
    "\n",
    "plt.savefig(os.path.join(plot_path, \"loops_distribution.pdf\"))\n",
    "plt.show()"
   ],
   "id": "39e29c4e793b013d",
   "outputs": [],
   "execution_count": null
  },
  {
   "metadata": {},
   "cell_type": "code",
   "source": [
    "# per file statistics\n",
    "df_parallel_portion = df.groupby([\"Code\", \"File\"]).agg(\n",
    "    instructions_flat=pd.NamedAgg(column=\"instructions_flat\", aggfunc=\"sum\"),\n",
    "    TOTAL_FILE_INSTR_COUNT=pd.NamedAgg(column=\"TOTAL_FILE_INSTR_COUNT\", aggfunc=\"max\")\n",
    ").reset_index()\n",
    "# per project\n",
    "df_parallel_portion = df_parallel_portion.groupby(\"Code\")[[\"instructions_flat\", \"TOTAL_FILE_INSTR_COUNT\"]].sum()\n",
    "df_parallel_portion[\"percent_parallel\"] = df_parallel_portion[\"instructions_flat\"] / (\n",
    "            df_parallel_portion[\"instructions_flat\"] + df_parallel_portion[\"TOTAL_FILE_INSTR_COUNT\"])\n",
    "df_parallel_portion"
   ],
   "id": "eb6febddafc850c8",
   "outputs": [],
   "execution_count": null
  },
  {
   "metadata": {},
   "cell_type": "code",
   "source": [
    "fig, ax = plt.subplots(figsize=(10, 2))\n",
    "\n",
    "data = df_parallel_portion['percent_parallel'].sort_values()\n",
    "\n",
    "# Normalize the percentage values to use as colors\n",
    "# Normalize the percentage values to use as colors\n",
    "norm = plt.Normalize(data.min(), data.max())\n",
    "sm = plt.cm.ScalarMappable(cmap=plt.colormaps.get_cmap(\"cool\").reversed(), norm=norm)\n",
    "colors = sm.to_rgba(data)\n",
    "\n",
    "# Plot the horizontal bar segments\n",
    "start = 0\n",
    "for i, percentage in enumerate(data):\n",
    "    ax.barh(0, 1, left=start, color=colors[i]\n",
    "            #, edgecolor='black'\n",
    "            )\n",
    "    start += 1\n",
    "\n",
    "# Set the labels and title\n",
    "ax.set_xlabel(\"Number of Codes\")\n",
    "ax.set_yticks([])  # Hide y-axis ticks\n",
    "ax.set_xlim([0, len(data)])\n",
    "ax.set_title(\"Fraction of assembly instructions inside of Parallel Regions\")\n",
    "\n",
    "# Add a legend\n",
    "cbar = plt.colorbar(sm, ax=ax, orientation='horizontal', pad=0.4)\n",
    "cbar.set_label('Fraction of assembly instructions inside of Parallel Regions')\n",
    "fig.tight_layout()\n",
    "plt.savefig(os.path.join(plot_path, \"fraction_of_parallel_region.pdf\"))\n",
    "plt.show()"
   ],
   "id": "1e2481d83826319a",
   "outputs": [],
   "execution_count": null
  },
  {
   "metadata": {},
   "cell_type": "code",
   "source": [
    "#pd.to_datetime(df_repo_metadata[\"PushDate\"])\n",
    "#for schedule(dynamic, 10) nowait"
   ],
   "id": "379eab70623a9934",
   "outputs": [],
   "execution_count": null
  },
  {
   "metadata": {},
   "cell_type": "code",
   "source": "",
   "id": "cf942dc6460535e0",
   "outputs": [],
   "execution_count": null
  },
  {
   "metadata": {},
   "cell_type": "code",
   "source": [
    "def get_closing_brace(s, start_pos):\n",
    "    \"\"\"\n",
    "    Returns the position of the corresponding closing brace given a string and the position of an opening brace.\n",
    "\n",
    "    Parameters:\n",
    "    s (str): The string to search for the closing brace.\n",
    "    start_pos (int): The position of the opening brace.\n",
    "\n",
    "    Returns:\n",
    "    int: The position of the closing brace, or -1 if not found.\n",
    "    \"\"\"\n",
    "    # get the opening brace character\n",
    "    open_brace = s[start_pos]\n",
    "\n",
    "    # determine the closing brace character\n",
    "    if open_brace == '(':\n",
    "        close_brace = ')'\n",
    "    elif open_brace == '[':\n",
    "        close_brace = ']'\n",
    "    elif open_brace == '{':\n",
    "        close_brace = '}'\n",
    "    else:\n",
    "        # not a valid opening brace character\n",
    "        return -1\n",
    "\n",
    "    # search for the closing brace\n",
    "    count = 1\n",
    "    pos = start_pos + 1\n",
    "    while pos < len(s) and count > 0:\n",
    "        if s[pos] == open_brace:\n",
    "            count += 1\n",
    "        elif s[pos] == close_brace:\n",
    "            count -= 1\n",
    "        pos += 1\n",
    "\n",
    "    # return the position of the closing brace\n",
    "    if count == 0:\n",
    "        return pos - 1\n",
    "    else:\n",
    "        return -1\n",
    "\n",
    "def tokenize_pragma(pragma):\n",
    "    # removes extra specification in the braces\n",
    "    without_braces = pragma\n",
    "    while '(' in without_braces:\n",
    "        index = without_braces.find('(')\n",
    "        closing = get_closing_brace(without_braces, index)\n",
    "        without_braces = (without_braces[:index] + without_braces[closing+1:])    \n",
    "    return without_braces.strip().split(' ')\n",
    "\n",
    "df_pragmas[\"openmp_pragma_tokenized\"] = df_pragmas[\"openmp_pragma_used\"].apply(tokenize_pragma)\n",
    "all_clauses = set([clause for clauses in df_pragmas[\"openmp_pragma_tokenized\"] for clause in clauses])\n",
    "all_clauses.remove('')\n",
    "\n",
    "for c in all_clauses:\n",
    "    df_pragmas[c] = df_pragmas['openmp_pragma_tokenized'].apply(lambda x: c in x)\n",
    "df_pragmas[\"parallel_for\"]=df_pragmas[\"parallel\"] & df_pragmas[\"for\"]\n",
    "# Set 'parallel' and 'for' columns to False where 'parallel_for' is True\n",
    "df_pragmas.loc[df_pragmas['parallel_for'], ['parallel', 'for']] = False\n",
    "df_pragmas = df_pragmas.copy()\n"
   ],
   "id": "d85fb3f5ddbc11ba",
   "outputs": [],
   "execution_count": null
  },
  {
   "metadata": {},
   "cell_type": "code",
   "source": [
    "#df_pragmas.groupby([\"Code\"]).size().sort_values(ascending=False)\n",
    "ax = df_pragmas.groupby(\"Code\").size().value_counts().sort_index().plot.bar()\n",
    "ax.set_xlabel(\"Number of OpenMP Pragmas\")\n",
    "ax.set_ylabel(\"number of Codes\")\n",
    "ax.set_title(\"Number of OpenMP pragmas per Repo\")\n",
    "plt.savefig(os.path.join(plot_path, \"num_pragmas.pdf\"))\n",
    "plt.tight_layout()\n",
    "plt.show()\n"
   ],
   "id": "acafe95729ab01b",
   "outputs": [],
   "execution_count": null
  },
  {
   "metadata": {},
   "cell_type": "code",
   "source": [
    "df_pragmas.groupby([\"Code\"]).sum()\n",
    "\n",
    "\n"
   ],
   "id": "d273ef1e78fe2ef6",
   "outputs": [],
   "execution_count": null
  },
  {
   "metadata": {},
   "cell_type": "code",
   "source": [
    "ax = df_pragmas.groupby([\"Code\"])[\"for\"].sum().value_counts().sort_index().plot.bar()\n",
    "ax.set_xlabel(\"Number of For Pragmas\")\n",
    "ax.set_ylabel(\"number of Codes\")\n",
    "ax.set_title(\"Number of omp for pragmas per Repo\")\n",
    "plt.savefig(os.path.join(plot_path, \"num_for_pragma.pdf\"))\n",
    "plt.tight_layout()\n",
    "plt.show()"
   ],
   "id": "929d61a8372867dc",
   "outputs": [],
   "execution_count": null
  },
  {
   "metadata": {},
   "cell_type": "code",
   "source": [
    "ax = df_pragmas.groupby([\"Code\"])[\"parallel\"].sum().value_counts().sort_index().plot.bar()\n",
    "ax.set_xlabel(\"Number of parallel Pragmas\")\n",
    "ax.set_ylabel(\"number of Codes\")\n",
    "ax.set_title(\"Number of omp parallel pragmas per Repo\")\n",
    "plt.savefig(os.path.join(plot_path, \"num_parallel_pragma.pdf\"))\n",
    "plt.tight_layout()\n",
    "plt.show()"
   ],
   "id": "fb93616c76b66b31",
   "outputs": [],
   "execution_count": null
  },
  {
   "metadata": {},
   "cell_type": "code",
   "source": [
    "ax = df_pragmas.groupby([\"Code\"])[\"task\"].sum().value_counts().sort_index().plot.bar()\n",
    "ax.set_xlabel(\"Number of task Pragmas\")\n",
    "ax.set_ylabel(\"number of Codes\")\n",
    "ax.set_title(\"Number of omp task pragmas per Repo\")\n",
    "plt.savefig(os.path.join(plot_path, \"num_task_pragma.pdf\"))\n",
    "plt.tight_layout()\n",
    "plt.show()"
   ],
   "id": "718a86e93a7ca6ff",
   "outputs": [],
   "execution_count": null
  },
  {
   "metadata": {},
   "cell_type": "code",
   "source": [
    "pivot_table = pd.pivot_table(df_pragmas,columns=\"Code\",values=all_clauses.union([\"parallel_for\"]),aggfunc=\"sum\")\n",
    "# parallel for is both parallel and for\n",
    "pivot_table.loc[\"parallel\"] = pivot_table.loc[\"parallel\"] - pivot_table.loc[\"parallel_for\"] \n",
    "pivot_table.loc[\"for\"] = pivot_table.loc[\"for\"] - pivot_table.loc[\"parallel_for\"]"
   ],
   "id": "a1f9dc889a354019",
   "outputs": [],
   "execution_count": null
  },
  {
   "metadata": {},
   "cell_type": "code",
   "source": "pivot_table.sum(axis=1).sort_values(ascending=False)",
   "id": "f7a404b7aa98a53a",
   "outputs": [],
   "execution_count": null
  },
  {
   "metadata": {},
   "cell_type": "code",
   "source": [
    "#to_view = [\"parallel\",\"for\",\"parallel_for\",\"task\",\"section\",\"critical\",\"single\",\"simd\",\"atomic\",\"barrier\"]\n",
    "to_view = [\"parallel\",\"for\",\"parallel_for\",\"task\",\"section\",\"critical\",\"single\",\"atomic\",\"barrier\"]\n",
    "not_to_view=  [\"Code\",\"src_location\", \"src_location_line_number\",\"call\",\"openmp_pragma_used\",\"openmp_pragma_tokenized\"]\n",
    "relevant_cols = [c for c in df_pragmas.columns if c not in not_to_view]"
   ],
   "id": "7276972fed6d3a6e",
   "outputs": [],
   "execution_count": null
  },
  {
   "metadata": {},
   "cell_type": "code",
   "source": [
    "grouping = df_pragmas.groupby([\"Code\"]).sum()\n",
    "# manual sorting into the bins\n",
    "bins = [1,2,3,4,5,10,20,50,100,500,1000]\n",
    "\n",
    "cat_data = {key : [0 for _ in range(len(bins) + 1)] for key in to_view+ [\"other\"]}\n",
    "\n",
    "for idx, row in grouping.iterrows():\n",
    "    sum_pragmas = df_pragmas.groupby(\"Code\").size()[row.name]\n",
    "    if  sum_pragmas > 0:\n",
    "        b_index = np.searchsorted(bins, sum_pragmas)\n",
    "        sum_shown = 0\n",
    "        for cat in to_view:\n",
    "            cat_data[cat][b_index] += row[cat] /sum_pragmas\n",
    "            sum_shown += row[cat]\n",
    "        cat_data[\"other\"][b_index] += (sum_pragmas - sum_shown) /sum_pragmas\n",
    "            \n",
    "   \n",
    "for cat in to_view+ [\"other\"]:\n",
    "    cat_data[cat] = cat_data[cat][:-2]\n",
    "\n",
    "\n",
    "fig, ax = plt.subplots()\n",
    "bot = np.zeros(len(bins)-1)\n",
    "for cat in to_view+ [\"other\"]:    \n",
    "    ax.bar(\n",
    "        [1,2,3,4,5,6,7,8,9,10],\n",
    "        cat_data[cat],\n",
    "        label=cat,\n",
    "        #width=10,\n",
    "        align='edge',\n",
    "        bottom=bot\n",
    "    )\n",
    "    bot += cat_data[cat]\n",
    "\n",
    "#ax.set_xscale(\"log\")\n",
    "ax.set_xlabel(\"OpenMP Pragmas per repository\")\n",
    "ax.set_xticks(ticks= np.array([1,2,3,4,5,6,7,8,9,10])+ 0.4,labels=[1,2,3,4,5,\"<10\",\"<20\",\"<50\",\"<100\",\"<500\"])\n",
    "ax.set_ylabel(\"Frequency\")\n",
    "# bar coloring according to percentages of loops\n",
    "ax.set_title(\"Number of OpenMP pragmas per repository\")\n",
    "ax.legend()\n",
    "\n",
    "plt.savefig(os.path.join(plot_path, \"num_pragmas.pdf\"))\n",
    "plt.show()"
   ],
   "id": "58b722800eed369",
   "outputs": [],
   "execution_count": null
  },
  {
   "metadata": {},
   "cell_type": "code",
   "source": "",
   "id": "f8a21846ffeb6659",
   "outputs": [],
   "execution_count": null
  }
 ],
 "metadata": {
  "kernelspec": {
   "display_name": "Python 3",
   "language": "python",
   "name": "python3"
  },
  "language_info": {
   "codemirror_mode": {
    "name": "ipython",
    "version": 2
   },
   "file_extension": ".py",
   "mimetype": "text/x-python",
   "name": "python",
   "nbconvert_exporter": "python",
   "pygments_lexer": "ipython2",
   "version": "2.7.6"
  }
 },
 "nbformat": 4,
 "nbformat_minor": 5
}
